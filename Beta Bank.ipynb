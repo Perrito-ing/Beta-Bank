{
 "cells": [
  {
   "cell_type": "markdown",
   "metadata": {},
   "source": [
    "<b>¡Hola Sebastian!</b>\n",
    "\n",
    "Mi nombre es Alejandro Abia y tengo el gusto de revisar tu proyecto.\n",
    "\n",
    "A continuación, encontrarás mis comentarios en celdas pintadas de tres colores (verde, amarillo y rojo), a manera de semáforo. Por favor, <b>no las borres ni muevas de posición</b> mientras dure el proceso de revisión.\n",
    "\n",
    "<div class=\"alert alert-block alert-success\">\n",
    "<b>Éxito</b> <a class=\"tocSkip\"></a>\n",
    "En celdas verdes encontrarás comentarios en relación a tus aciertos y fortalezas.\n",
    "</div>\n",
    "<div class=\"alert alert-block alert-warning\">\n",
    "<b>Antención</b> <a class=\"tocSkip\"></a>\n",
    "Utilizaré el color amarillo para llamar tu atención, expresar algo importante o compartirte alguna idea de valor.\n",
    "</div>\n",
    "<div class=\"alert alert-block alert-danger\">\n",
    "<b>A resolver</b> <a class=\"tocSkip\"></a>\n",
    "En rojo emitiré aquellos puntos que deberás atender para aprobar la revisión.\n",
    "</div>\n",
    "<div class=\"alert alert-block alert-info\">\n",
    "<b>Comentario estudiante</b><a class=\"tocSkip\"></a>\n",
    "Es factible que, a lo largo del proceso de revisión, quieras dejarme comentarios. Si es el caso, por favor realízalo dentro de celdas azules como esta.\n",
    "</div>\n",
    "Respecto del proceso de revisión, tu proyecto será aceptado una vez que los comentarios en rojo hayan sido atendidos.\n",
    "¡Empecemos!"
   ]
  },
  {
   "cell_type": "markdown",
   "metadata": {},
   "source": [
    "# Proyecto Sprint 10"
   ]
  },
  {
   "cell_type": "markdown",
   "metadata": {},
   "source": [
    "## Descripción del proyecto"
   ]
  },
  {
   "cell_type": "markdown",
   "metadata": {
    "editable": true,
    "slideshow": {
     "slide_type": ""
    },
    "tags": []
   },
   "source": [
    "Los clientes de Beta Bank se están yendo, cada mes, poco a poco. Los banqueros descubrieron que es más barato salvar a los clientes existentes que atraer nuevos.\n",
    "Necesitamos predecir si un cliente dejará el banco pronto.\n",
    "\n",
    "Crea un modelo con el máximo valor F1 posible. Para aprobar la revisión, necesitas un valor F1 de al menos 0.59. Verifica F1 para el conjunto de prueba. \n",
    "Además, debes medir la métrica AUC-ROC y compararla con el valor F1."
   ]
  },
  {
   "cell_type": "markdown",
   "metadata": {},
   "source": [
    "## Manipulación de datos"
   ]
  },
  {
   "cell_type": "code",
   "execution_count": 1,
   "metadata": {},
   "outputs": [],
   "source": [
    "#librerias\n",
    "import pandas as pd\n",
    "import matplotlib.pyplot as plt\n",
    "\n",
    "#Modelos de Machine Learning\n",
    "from sklearn.model_selection import train_test_split\n",
    "from sklearn.tree import DecisionTreeClassifier\n",
    "from sklearn.ensemble import RandomForestClassifier\n",
    "from sklearn.linear_model import LogisticRegression\n",
    "\n",
    "#Herramientas\n",
    "from sklearn.utils import shuffle\n",
    "from sklearn.utils.class_weight import compute_class_weight\n",
    "\n",
    "#Metricas\n",
    "from sklearn.metrics import accuracy_score\n",
    "from sklearn.metrics import confusion_matrix\n",
    "from sklearn.metrics import recall_score\n",
    "from sklearn.metrics import precision_score\n",
    "from sklearn.metrics import f1_score\n",
    "from sklearn.metrics import roc_curve\n",
    "from sklearn.metrics import roc_auc_score"
   ]
  },
  {
   "cell_type": "code",
   "execution_count": 2,
   "metadata": {},
   "outputs": [
    {
     "name": "stdout",
     "output_type": "stream",
     "text": [
      "      RowNumber  CustomerId    Surname  CreditScore Geography  Gender  Age  \\\n",
      "0             1    15634602   Hargrave          619    France  Female   42   \n",
      "1             2    15647311       Hill          608     Spain  Female   41   \n",
      "2             3    15619304       Onio          502    France  Female   42   \n",
      "3             4    15701354       Boni          699    France  Female   39   \n",
      "4             5    15737888   Mitchell          850     Spain  Female   43   \n",
      "...         ...         ...        ...          ...       ...     ...  ...   \n",
      "9995       9996    15606229   Obijiaku          771    France    Male   39   \n",
      "9996       9997    15569892  Johnstone          516    France    Male   35   \n",
      "9997       9998    15584532        Liu          709    France  Female   36   \n",
      "9998       9999    15682355  Sabbatini          772   Germany    Male   42   \n",
      "9999      10000    15628319     Walker          792    France  Female   28   \n",
      "\n",
      "      Tenure    Balance  NumOfProducts  HasCrCard  IsActiveMember  \\\n",
      "0        2.0       0.00              1          1               1   \n",
      "1        1.0   83807.86              1          0               1   \n",
      "2        8.0  159660.80              3          1               0   \n",
      "3        1.0       0.00              2          0               0   \n",
      "4        2.0  125510.82              1          1               1   \n",
      "...      ...        ...            ...        ...             ...   \n",
      "9995     5.0       0.00              2          1               0   \n",
      "9996    10.0   57369.61              1          1               1   \n",
      "9997     7.0       0.00              1          0               1   \n",
      "9998     3.0   75075.31              2          1               0   \n",
      "9999     NaN  130142.79              1          1               0   \n",
      "\n",
      "      EstimatedSalary  Exited  \n",
      "0           101348.88       1  \n",
      "1           112542.58       0  \n",
      "2           113931.57       1  \n",
      "3            93826.63       0  \n",
      "4            79084.10       0  \n",
      "...               ...     ...  \n",
      "9995         96270.64       0  \n",
      "9996        101699.77       0  \n",
      "9997         42085.58       1  \n",
      "9998         92888.52       1  \n",
      "9999         38190.78       0  \n",
      "\n",
      "[10000 rows x 14 columns]\n",
      "\n",
      "<class 'pandas.core.frame.DataFrame'>\n",
      "RangeIndex: 10000 entries, 0 to 9999\n",
      "Data columns (total 14 columns):\n",
      " #   Column           Non-Null Count  Dtype  \n",
      "---  ------           --------------  -----  \n",
      " 0   RowNumber        10000 non-null  int64  \n",
      " 1   CustomerId       10000 non-null  int64  \n",
      " 2   Surname          10000 non-null  object \n",
      " 3   CreditScore      10000 non-null  int64  \n",
      " 4   Geography        10000 non-null  object \n",
      " 5   Gender           10000 non-null  object \n",
      " 6   Age              10000 non-null  int64  \n",
      " 7   Tenure           9091 non-null   float64\n",
      " 8   Balance          10000 non-null  float64\n",
      " 9   NumOfProducts    10000 non-null  int64  \n",
      " 10  HasCrCard        10000 non-null  int64  \n",
      " 11  IsActiveMember   10000 non-null  int64  \n",
      " 12  EstimatedSalary  10000 non-null  float64\n",
      " 13  Exited           10000 non-null  int64  \n",
      "dtypes: float64(3), int64(8), object(3)\n",
      "memory usage: 1.1+ MB\n",
      "None\n"
     ]
    }
   ],
   "source": [
    "#Visualisamos primero el DataFrame\n",
    "df = pd.read_csv(\"Churn.csv\", sep=\",\")\n",
    "\n",
    "print(df)\n",
    "print()\n",
    "print(df.info())"
   ]
  },
  {
   "cell_type": "markdown",
   "metadata": {},
   "source": [
    "Podemos ver que la columna \"Tenure\" tiene aproximadaamente un 9% de valores nulos.\n",
    "\n",
    "La columna hace referencia a cuantos años ha mantenido un cliente una cantidad de dinero en una cuenta de ahorro. Este al ser un servicio importante para los usuarios del banco se optara por reemplazar los valores nulos por \"0\" haciendo referencia a que el cliente no esta usando este servicio. "
   ]
  },
  {
   "cell_type": "code",
   "execution_count": 3,
   "metadata": {
    "scrolled": true
   },
   "outputs": [
    {
     "name": "stdout",
     "output_type": "stream",
     "text": [
      "<class 'pandas.core.frame.DataFrame'>\n",
      "RangeIndex: 10000 entries, 0 to 9999\n",
      "Data columns (total 14 columns):\n",
      " #   Column           Non-Null Count  Dtype  \n",
      "---  ------           --------------  -----  \n",
      " 0   RowNumber        10000 non-null  int64  \n",
      " 1   CustomerId       10000 non-null  int64  \n",
      " 2   Surname          10000 non-null  object \n",
      " 3   CreditScore      10000 non-null  int64  \n",
      " 4   Geography        10000 non-null  object \n",
      " 5   Gender           10000 non-null  object \n",
      " 6   Age              10000 non-null  int64  \n",
      " 7   Tenure           10000 non-null  float64\n",
      " 8   Balance          10000 non-null  float64\n",
      " 9   NumOfProducts    10000 non-null  int64  \n",
      " 10  HasCrCard        10000 non-null  int64  \n",
      " 11  IsActiveMember   10000 non-null  int64  \n",
      " 12  EstimatedSalary  10000 non-null  float64\n",
      " 13  Exited           10000 non-null  int64  \n",
      "dtypes: float64(3), int64(8), object(3)\n",
      "memory usage: 1.1+ MB\n",
      "None\n"
     ]
    }
   ],
   "source": [
    "#Reemplazamos los valores nulos por 0\n",
    "df[\"Tenure\"] = df[\"Tenure\"].fillna(0)\n",
    "print(df.info())"
   ]
  },
  {
   "cell_type": "markdown",
   "metadata": {},
   "source": [
    "<div class=\"alert alert-block alert-success\">\n",
    "<b>Celdas [1–3]</b> <a class=\"tocSkip\"></a><br>\n",
    "Excelente inicio. Se cargan correctamente los datos, se identifican valores nulos y se justifican con criterio claro (rellenar \"Tenure\" con 0 tiene sentido práctico en este contexto). El preprocesamiento es transparente y coherente con el objetivo del modelo.\n",
    "</div>\n"
   ]
  },
  {
   "cell_type": "markdown",
   "metadata": {},
   "source": [
    "## Empezando el entrenamiento del modelo"
   ]
  },
  {
   "cell_type": "markdown",
   "metadata": {},
   "source": [
    "### Codificacion"
   ]
  },
  {
   "cell_type": "code",
   "execution_count": 4,
   "metadata": {},
   "outputs": [
    {
     "name": "stdout",
     "output_type": "stream",
     "text": [
      "2932\n",
      "\n",
      "3\n",
      "\n",
      "2\n"
     ]
    }
   ],
   "source": [
    "#Vamos a contar los valores unicos de las caracterisitcas que contengan valores de tipo String\n",
    "print(df[\"Surname\"].nunique())\n",
    "print()\n",
    "print(df[\"Geography\"].nunique())\n",
    "print()\n",
    "print(df[\"Gender\"].nunique())\n",
    "\n"
   ]
  },
  {
   "cell_type": "markdown",
   "metadata": {},
   "source": [
    "Viendo los valores unicos de las caracteristicas que tienen dato que no son de tipo numerico podemos var que la columna \"Surname\" contiene muchos valores unicos, lo cual es malo para entrenar un modelo, de hecho si aplicamos el metodo de codificacion OHE nos va a crear muchas columnas. Afortunadamente este tipo de dato es irrelevante para entrenamiento, por lo que la vamos a eliminar.\n",
    "\n",
    "Tambien, vamos a eliminar todas las caracteristicas que no tengan una relacion con el objetivo del modelo. Por lo que las columnas \"RowNumber\" y \"CustomerId\" tambien se van."
   ]
  },
  {
   "cell_type": "code",
   "execution_count": 5,
   "metadata": {},
   "outputs": [],
   "source": [
    "#eliminamos columnas\n",
    "df = df.drop([\"RowNumber\", \"CustomerId\", \"Surname\"], axis=True)"
   ]
  },
  {
   "cell_type": "code",
   "execution_count": 6,
   "metadata": {
    "scrolled": true
   },
   "outputs": [
    {
     "name": "stdout",
     "output_type": "stream",
     "text": [
      "      CreditScore  Age  Tenure    Balance  NumOfProducts  HasCrCard  \\\n",
      "0             619   42     2.0       0.00              1          1   \n",
      "1             608   41     1.0   83807.86              1          0   \n",
      "2             502   42     8.0  159660.80              3          1   \n",
      "3             699   39     1.0       0.00              2          0   \n",
      "4             850   43     2.0  125510.82              1          1   \n",
      "...           ...  ...     ...        ...            ...        ...   \n",
      "9995          771   39     5.0       0.00              2          1   \n",
      "9996          516   35    10.0   57369.61              1          1   \n",
      "9997          709   36     7.0       0.00              1          0   \n",
      "9998          772   42     3.0   75075.31              2          1   \n",
      "9999          792   28     0.0  130142.79              1          1   \n",
      "\n",
      "      IsActiveMember  EstimatedSalary  Exited  Geography_Germany  \\\n",
      "0                  1        101348.88       1                  0   \n",
      "1                  1        112542.58       0                  0   \n",
      "2                  0        113931.57       1                  0   \n",
      "3                  0         93826.63       0                  0   \n",
      "4                  1         79084.10       0                  0   \n",
      "...              ...              ...     ...                ...   \n",
      "9995               0         96270.64       0                  0   \n",
      "9996               1        101699.77       0                  0   \n",
      "9997               1         42085.58       1                  0   \n",
      "9998               0         92888.52       1                  1   \n",
      "9999               0         38190.78       0                  0   \n",
      "\n",
      "      Geography_Spain  Gender_Male  \n",
      "0                   0            0  \n",
      "1                   1            0  \n",
      "2                   0            0  \n",
      "3                   0            0  \n",
      "4                   1            0  \n",
      "...               ...          ...  \n",
      "9995                0            1  \n",
      "9996                0            1  \n",
      "9997                0            0  \n",
      "9998                0            1  \n",
      "9999                0            0  \n",
      "\n",
      "[10000 rows x 12 columns]\n"
     ]
    }
   ],
   "source": [
    "#Aplicamos la tecnica One-Hot Encoding para transformar las caracteristicas categaricas en numericas y eliminamos las caracteristicas dummy\n",
    "data_ohe = pd.get_dummies(df, drop_first=True)\n",
    "print(data_ohe)"
   ]
  },
  {
   "cell_type": "markdown",
   "metadata": {},
   "source": [
    "<div class=\"alert alert-block alert-success\">\n",
    "<b>Celdas [4–6]</b> <a class=\"tocSkip\"></a><br>\n",
    "Muy buen criterio al eliminar variables irrelevantes como \"Surname\" o \"CustomerId\", que podrían introducir ruido. También se aplicó correctamente One-Hot Encoding, conservando sólo las variables necesarias y evitando la multicolinealidad con `drop_first=True`.\n",
    "</div>\n"
   ]
  },
  {
   "cell_type": "markdown",
   "metadata": {},
   "source": [
    "### Division del DataFrame en conjuntos"
   ]
  },
  {
   "cell_type": "code",
   "execution_count": 7,
   "metadata": {},
   "outputs": [
    {
     "name": "stdout",
     "output_type": "stream",
     "text": [
      "Datos fuente(total de datos): 10000\n",
      "\n",
      "Datos de entrenamiento:  6000\n",
      "\n",
      "Datos de validacion:  2000\n",
      "\n",
      "Datos de prueba:  2000\n"
     ]
    }
   ],
   "source": [
    "#Imprimimos el largo del DataFrame como referencia\n",
    "print(\"Datos fuente(total de datos):\", len(df))\n",
    "print()\n",
    "\n",
    "\n",
    "#Separamos los datos en tres conjuntos, uno para entrenar el modelo, otro para validarlo y el ultimo para probarlo. con una proporcion de 3:1:1.\n",
    "#Al mismo tiempo dividimos el DataFrame original en dos, uno con el objetivo y el otro con las caracteristicas.\n",
    "\n",
    "df_train_and_test, df_valid = train_test_split(data_ohe, test_size=0.20, random_state=1)\n",
    "\n",
    "df_train, df_test = train_test_split(df_train_and_test, test_size=0.25, random_state=1)\n",
    "\n",
    "#Entrenamiento 60%\n",
    "features_train = df_train.drop([\"Exited\"], axis=True)\n",
    "target_train = df_train[\"Exited\"]\n",
    "print(\"Datos de entrenamiento: \", len(features_train))\n",
    "\n",
    "#Validacion 20%\n",
    "features_valid = df_valid.drop([\"Exited\"], axis=True)\n",
    "target_valid = df_valid[\"Exited\"]\n",
    "print()\n",
    "print(\"Datos de validacion: \", len(features_valid))\n",
    "\n",
    "#Prueba 20%\n",
    "features_test = df_test.drop([\"Exited\"], axis=True)\n",
    "target_test = df_test[\"Exited\"]\n",
    "print()\n",
    "print(\"Datos de prueba: \", len(features_test))"
   ]
  },
  {
   "cell_type": "markdown",
   "metadata": {},
   "source": [
    "### Arbol de Decision"
   ]
  },
  {
   "cell_type": "markdown",
   "metadata": {},
   "source": [
    "#### Ajuste del hiperparametro"
   ]
  },
  {
   "cell_type": "code",
   "execution_count": 8,
   "metadata": {},
   "outputs": [
    {
     "name": "stdout",
     "output_type": "stream",
     "text": [
      "Con una profundidad maxima de 1 obtenemos una exactitud de: 0.7925\n",
      "Con una profundidad maxima de 2 obtenemos una exactitud de: 0.8315\n",
      "Con una profundidad maxima de 3 obtenemos una exactitud de: 0.8395\n",
      "Con una profundidad maxima de 4 obtenemos una exactitud de: 0.848\n",
      "Con una profundidad maxima de 5 obtenemos una exactitud de: 0.855\n",
      "Con una profundidad maxima de 6 obtenemos una exactitud de: 0.8505\n",
      "Con una profundidad maxima de 7 obtenemos una exactitud de: 0.849\n",
      "Con una profundidad maxima de 8 obtenemos una exactitud de: 0.849\n",
      "Con una profundidad maxima de 9 obtenemos una exactitud de: 0.84\n",
      "Con una profundidad maxima de 10 obtenemos una exactitud de: 0.8325\n"
     ]
    }
   ],
   "source": [
    "#empezaremos con el arbol de decision, iterando sobre el hiperparametro de profundidad maxima para ajustar la exactitud.\n",
    "for depth in range(1, 11):\n",
    "    model = DecisionTreeClassifier(random_state=10, max_depth=depth)\n",
    "    model.fit(features_train, target_train)\n",
    "    predictions_valid = model.predict(features_valid)\n",
    "    accuracy = round(accuracy_score(target_valid, predictions_valid), 4)\n",
    "    print(\"Con una profundidad maxima de {} obtenemos una exactitud de: {}\".format(depth, accuracy))"
   ]
  },
  {
   "cell_type": "markdown",
   "metadata": {},
   "source": [
    "Vemos que el resultado mas exacto fue el que tiene una profundidad de 5."
   ]
  },
  {
   "cell_type": "markdown",
   "metadata": {},
   "source": [
    "#### Entrenamiento y Validacion"
   ]
  },
  {
   "cell_type": "code",
   "execution_count": 9,
   "metadata": {},
   "outputs": [
    {
     "name": "stdout",
     "output_type": "stream",
     "text": [
      "Con una profundidad maxima de 5 obtenemos una exactitud de: 0.855 con los datos de validacion\n",
      "\n"
     ]
    }
   ],
   "source": [
    "#conociendo el ajuste del hiperparametro volvemos a entrenar el modelo desde el principio de forma ordenada\n",
    "\n",
    "#creacion de modelo con una profundidad maxima de 5\n",
    "model_decision_tree = DecisionTreeClassifier(random_state=11, max_depth=5)\n",
    "\n",
    "#entrenamiento\n",
    "model_decision_tree.fit(features_train, target_train)\n",
    "\n",
    "#validacion\n",
    "predictions_valid = model_decision_tree.predict(features_valid)\n",
    "accuracy = round(accuracy_score(target_valid, predictions_valid), 4)\n",
    "print(\"Con una profundidad maxima de 5 obtenemos una exactitud de: {} con los datos de validacion\".format(accuracy))\n",
    "print()\n",
    "\n",
    "#prueba con conjunto de datos desconocidos\n",
    "#predictions_test = model_decision_tree.predict(features_test)\n",
    "#accuracy_test = round(accuracy_score(target_test, predictions_test), 4)\n",
    "#print(\"Obtuvimos una exactitud de: {} con los datos de prueba\".format(accuracy_test))\n",
    "\n"
   ]
  },
  {
   "cell_type": "markdown",
   "metadata": {},
   "source": [
    "<div class=\"alert alert-block alert-success\">\n",
    "<b>Celdas [7–9]</b> <a class=\"tocSkip\"></a><br>\n",
    "La división del dataset en conjuntos de entrenamiento, validación y prueba está bien estructurada. Además, se ajusta correctamente el hiperparámetro del árbol de decisión y se presenta de forma interpretativa. Se refleja un dominio básico sólido del flujo de modelado.\n",
    "</div>\n"
   ]
  },
  {
   "cell_type": "markdown",
   "metadata": {},
   "source": [
    "#### Prueba de Consistencia"
   ]
  },
  {
   "cell_type": "markdown",
   "metadata": {},
   "source": [
    "Debemos comprobar el equilibrio de las clases o dicho de otro modo la relacion entre 1's (El cliente se fue) y 0's (El cliente no se fue). Lo ideal es que sea de 1:1."
   ]
  },
  {
   "cell_type": "code",
   "execution_count": 10,
   "metadata": {},
   "outputs": [
    {
     "name": "stdout",
     "output_type": "stream",
     "text": [
      "0    0.7963\n",
      "1    0.2037\n",
      "Name: Exited, dtype: float64\n"
     ]
    },
    {
     "data": {
      "text/plain": [
       "<AxesSubplot:>"
      ]
     },
     "execution_count": 10,
     "metadata": {},
     "output_type": "execute_result"
    },
    {
     "data": {
      "image/png": "[encoded data removed]",
      "text/plain": [
       "<Figure size 640x480 with 1 Axes>"
      ]
     },
     "metadata": {},
     "output_type": "display_data"
    }
   ],
   "source": [
    "#Primero comprobaremos la frecuencia la variable objetivo.\n",
    "class_frequency = df[\"Exited\"].value_counts(normalize=True)\n",
    "print(class_frequency)\n",
    "class_frequency.plot(kind='bar')"
   ]
  },
  {
   "cell_type": "markdown",
   "metadata": {},
   "source": [
    "El el DataFrame completo vemos una ralacion de 80/20. Un Pareto en toda regla."
   ]
  },
  {
   "cell_type": "code",
   "execution_count": 11,
   "metadata": {},
   "outputs": [
    {
     "name": "stdout",
     "output_type": "stream",
     "text": [
      "0    0.8965\n",
      "1    0.1035\n",
      "dtype: float64\n"
     ]
    },
    {
     "data": {
      "text/plain": [
       "<AxesSubplot:>"
      ]
     },
     "execution_count": 11,
     "metadata": {},
     "output_type": "execute_result"
    },
    {
     "data": {
      "image/png": "[encoded data removed]",
      "text/plain": [
       "<Figure size 640x480 with 1 Axes>"
      ]
     },
     "metadata": {},
     "output_type": "display_data"
    }
   ],
   "source": [
    "#Hacemos lo mismo pero con la frecuencia de las predicciones\n",
    "class_frequency_pred = pd.Series(predictions_valid).value_counts(normalize=True)\n",
    "print(class_frequency_pred)\n",
    "class_frequency_pred.plot(kind='bar')"
   ]
  },
  {
   "cell_type": "markdown",
   "metadata": {},
   "source": [
    "Vemos que el modelo estimo de forma optimista un 90/10."
   ]
  },
  {
   "cell_type": "code",
   "execution_count": 12,
   "metadata": {},
   "outputs": [
    {
     "name": "stdout",
     "output_type": "stream",
     "text": [
      "0.7925\n"
     ]
    }
   ],
   "source": [
    "#serie de datos que solo contiene 0\n",
    "target_pred_constant = pd.Series(0, index=target_valid.index)\n",
    "\n",
    "print(accuracy_score(target_valid, target_pred_constant))"
   ]
  },
  {
   "cell_type": "markdown",
   "metadata": {},
   "source": [
    "<div class=\"alert alert-block alert-warning\">\n",
    "<b>Celdas [10–12]</b> <a class=\"tocSkip\"></a><br>\n",
    "Es muy positivo que analices el desequilibrio de clases y compares con un modelo constante. Sin embargo, podrías complementar esta parte con el valor de F1 del modelo base (solo predice 0) para tener una referencia más justa que la simple exactitud. Esto haría tu análisis más riguroso.\n",
    "</div>\n"
   ]
  },
  {
   "cell_type": "markdown",
   "metadata": {},
   "source": [
    "En un modelo constante tenemos una exactitud del 79.2%. \n",
    "\n",
    "Si bien es mejor que hacer predicciones aleatorias, no tiene mucho sentido entrenar un modelo que alcanza una exactitud del 85% si con solo estimar que ningun cliente se va a ir del banco alcanzamos una exactitud de casi del 80%."
   ]
  },
  {
   "cell_type": "markdown",
   "metadata": {},
   "source": [
    "#### Conclusion"
   ]
  },
  {
   "cell_type": "markdown",
   "metadata": {},
   "source": [
    "Debido a la relacion desigual entre clases estamos obteniendo resultados insatisfactorios con el entrenamiento del modelo.\n",
    "\n",
    "Para resolver esto debemos equilibrar las clases."
   ]
  },
  {
   "cell_type": "markdown",
   "metadata": {},
   "source": [
    "### Equilibrio de Clases"
   ]
  },
  {
   "cell_type": "markdown",
   "metadata": {},
   "source": [
    "#### Calculando el error"
   ]
  },
  {
   "cell_type": "markdown",
   "metadata": {},
   "source": [
    "Primero tenemos que comprobar los Verdaderos Positivos (VP), Verdaderos Negativos (VN), Falsos Positivos (FP) y Falsos Negativos (FN)."
   ]
  },
  {
   "cell_type": "code",
   "execution_count": 13,
   "metadata": {},
   "outputs": [
    {
     "name": "stdout",
     "output_type": "stream",
     "text": [
      "[[1544   41]\n",
      " [ 249  166]]\n"
     ]
    },
    {
     "data": {
      "image/png": "[encoded data removed]",
      "text/plain": [
       "<IPython.core.display.Image object>"
      ]
     },
     "execution_count": 13,
     "metadata": {},
     "output_type": "execute_result"
    }
   ],
   "source": [
    "#Mandamos a imprimir la matriz de confusion\n",
    "print(confusion_matrix(target_valid, predictions_valid))\n",
    "\n",
    "#Adicionalmente mostramos una imagen para que sea mas facil interpretar la matriz\n",
    "from IPython.display import Image\n",
    "Image(\"moved_8.3.9ES.png\", )"
   ]
  },
  {
   "cell_type": "markdown",
   "metadata": {},
   "source": [
    "Ahora vamos a calcular mas metricas"
   ]
  },
  {
   "cell_type": "code",
   "execution_count": 14,
   "metadata": {},
   "outputs": [
    {
     "name": "stdout",
     "output_type": "stream",
     "text": [
      "El Recall es de: 0.4\n",
      "La Precision es de: 0.802\n"
     ]
    }
   ],
   "source": [
    "#imprimiremos primero las metricas de recall y precision\n",
    "print(\"El Recall es de:\" ,recall_score(target_valid, predictions_valid))\n",
    "print(\"La Precision es de:\" ,round(precision_score(target_valid, predictions_valid), 3))"
   ]
  },
  {
   "cell_type": "markdown",
   "metadata": {},
   "source": [
    "Sabiendo que Recall mide la proporcion de verdaderos positivos que el modelo logro identificar correctamente. Y la precision mide la proporcion de predicciones positivas que realmente son correctas.\n",
    "\n",
    "Precision se preocupa de no equivocarse al decir que algo es positivo.\n",
    "\n",
    "Recall se preocupa de no perderse ningún positivo verdadero.\n",
    "\n",
    "\n",
    "Podriamos decir que el modelo es tiene una precision aceptable pero no comprende muy bien la relacion de las caracteristicas con el objetivo.\n",
    "\n",
    "Entonces mas bien le atina por suerte, lo cual no es bueno. 🫠"
   ]
  },
  {
   "cell_type": "code",
   "execution_count": 15,
   "metadata": {},
   "outputs": [
    {
     "name": "stdout",
     "output_type": "stream",
     "text": [
      "La media armonica o F1 es de: 0.534\n"
     ]
    }
   ],
   "source": [
    "#Veamos la relacion entre recall y precision\n",
    "print(\"La media armonica o F1 es de:\", round(f1_score(target_valid, predictions_valid), 3))"
   ]
  },
  {
   "cell_type": "markdown",
   "metadata": {},
   "source": [
    "<div class=\"alert alert-block alert-success\">\n",
    "<b>Celdas [13–15]</b> <a class=\"tocSkip\"></a><br>\n",
    "Excelente interpretación de la matriz de confusión y de las métricas de evaluación. Usas correctamente precision, recall y F1-score, y explicas su significado con claridad y sentido práctico. Muy buen trabajo comunicando el porqué del mal desempeño inicial del modelo.\n",
    "</div>\n"
   ]
  },
  {
   "cell_type": "markdown",
   "metadata": {},
   "source": [
    "Con este resultado no es de extrañar el mal desempeño del modelo. Es hora de corregirlo."
   ]
  },
  {
   "cell_type": "markdown",
   "metadata": {},
   "source": [
    "#### Equilibrando las Clases"
   ]
  },
  {
   "cell_type": "markdown",
   "metadata": {},
   "source": [
    "##### Ajuste del Peso de Clases"
   ]
  },
  {
   "cell_type": "code",
   "execution_count": 16,
   "metadata": {},
   "outputs": [
    {
     "name": "stdout",
     "output_type": "stream",
     "text": [
      "Con una profundidad maxima de 1 obtenemos una exactitud de: 0.7335 y un F1 de: 0.511\n",
      "Con una profundidad maxima de 2 obtenemos una exactitud de: 0.74 y un F1 de: 0.533\n",
      "Con una profundidad maxima de 3 obtenemos una exactitud de: 0.76 y un F1 de: 0.551\n",
      "Con una profundidad maxima de 4 obtenemos una exactitud de: 0.728 y un F1 de: 0.55\n",
      "Con una profundidad maxima de 5 obtenemos una exactitud de: 0.766 y un F1 de: 0.581\n",
      "Con una profundidad maxima de 6 obtenemos una exactitud de: 0.783 y un F1 de: 0.596\n",
      "Con una profundidad maxima de 7 obtenemos una exactitud de: 0.7725 y un F1 de: 0.584\n",
      "Con una profundidad maxima de 8 obtenemos una exactitud de: 0.806 y un F1 de: 0.598\n",
      "Con una profundidad maxima de 9 obtenemos una exactitud de: 0.7795 y un F1 de: 0.571\n",
      "Con una profundidad maxima de 10 obtenemos una exactitud de: 0.782 y un F1 de: 0.56\n"
     ]
    }
   ],
   "source": [
    "#Ajuestamos el hiperparametro\n",
    "for depth in range(1, 11):\n",
    "    model = DecisionTreeClassifier(random_state=1000, max_depth=depth, class_weight=\"balanced\")\n",
    "    model.fit(features_train, target_train)\n",
    "    predictions_valid = model.predict(features_valid)\n",
    "    accuracy = round(accuracy_score(target_valid, predictions_valid), 4)\n",
    "    f1 = round(f1_score(target_valid, predictions_valid), 3)\n",
    "    print(\"Con una profundidad maxima de {} obtenemos una exactitud de: {} y un F1 de: {}\".format(depth, accuracy, f1))"
   ]
  },
  {
   "cell_type": "code",
   "execution_count": 17,
   "metadata": {},
   "outputs": [
    {
     "name": "stdout",
     "output_type": "stream",
     "text": [
      "Resultados despues de equilibrar las clases:\n",
      "\n",
      "Exactitud: 0.806\n",
      "\n",
      "Recall: 0.696\n",
      "\n",
      "Precision: 0.525\n",
      "\n",
      "F1: 0.598\n"
     ]
    }
   ],
   "source": [
    "#creacion del modelo\n",
    "model_decision_tree_balanced = DecisionTreeClassifier(random_state=1000, max_depth=8, class_weight=\"balanced\")\n",
    "\n",
    "#entrenamiento\n",
    "model_decision_tree_balanced.fit(features_train, target_train)\n",
    "\n",
    "#validacion\n",
    "predictions_valid_balanced = model_decision_tree_balanced.predict(features_valid)\n",
    "\n",
    "print(\"Resultados despues de equilibrar las clases:\")\n",
    "print()\n",
    "print(\"Exactitud:\", round(accuracy_score(target_valid, predictions_valid_balanced), 4))\n",
    "print()\n",
    "print(\"Recall:\" ,round(recall_score(target_valid, predictions_valid_balanced), 3))\n",
    "print()\n",
    "print(\"Precision:\" ,round(precision_score(target_valid, predictions_valid_balanced), 3))\n",
    "print()\n",
    "print(\"F1:\", round(f1_score(target_valid, predictions_valid_balanced), 3))"
   ]
  },
  {
   "cell_type": "markdown",
   "metadata": {},
   "source": [
    "Tambien podemos comprobar la curva ROC que relaciona la tasa de falsos positivos y verdaderos positivos."
   ]
  },
  {
   "cell_type": "code",
   "execution_count": 18,
   "metadata": {},
   "outputs": [
    {
     "name": "stdout",
     "output_type": "stream",
     "text": [
      "Tenemos un area bajo la curva de:  0.811\n"
     ]
    }
   ],
   "source": [
    "#Con la funcion .predict_proba sacamos una matriz que contiene la prediccion de la probabilidad de clase, en donde: \n",
    "#indice 0 = probabilidad de clase negativa o 0\n",
    "#indice 1 = probabilidad de clase positiva o 1\n",
    "probabilities_valid = model_decision_tree_balanced.predict_proba(features_valid)\n",
    "probabilities_one_valid = probabilities_valid[:, 1]\n",
    "\n",
    "#Sacamos el area bajo la curba o AUC_ROC\n",
    "auc_roc = roc_auc_score(target_valid, probabilities_one_valid)\n",
    "\n",
    "print(\"Tenemos un area bajo la curva de: \", round(auc_roc, 3))"
   ]
  },
  {
   "cell_type": "code",
   "execution_count": 19,
   "metadata": {},
   "outputs": [
    {
     "data": {
      "image/png": "[encoded data removed]",
      "text/plain": [
       "<Figure size 640x480 with 1 Axes>"
      ]
     },
     "metadata": {},
     "output_type": "display_data"
    }
   ],
   "source": [
    "#Graficamos la curva\n",
    "fpr, tpr, thresholds = roc_curve(target_valid, probabilities_one_valid)\n",
    "\n",
    "plt.figure()\n",
    "plt.plot(fpr, tpr)\n",
    "plt.plot([0, 1], [0, 1], linestyle='--')\n",
    "plt.xlim([0.0, 1.0])\n",
    "plt.ylim([0.0, 1.0])\n",
    "plt.xlabel('Tasa de falsos positivos')\n",
    "plt.ylabel('Tasa de verdaderos positivos')\n",
    "plt.title('Curva ROC')\n",
    "plt.show()"
   ]
  },
  {
   "cell_type": "code",
   "execution_count": 20,
   "metadata": {},
   "outputs": [
    {
     "name": "stdout",
     "output_type": "stream",
     "text": [
      "Resultados:\n",
      "\n",
      "Exactitud: 0.7845\n",
      "\n",
      "Recall: 0.694\n",
      "\n",
      "Precision: 0.486\n",
      "\n",
      "F1: 0.572\n",
      "\n",
      "Tenemos un area bajo la curva de:  0.787\n"
     ]
    }
   ],
   "source": [
    "#Prueba\n",
    "predictions_test_balanced = model_decision_tree_balanced.predict(features_test)\n",
    "\n",
    "print(\"Resultados:\")\n",
    "print()\n",
    "print(\"Exactitud:\", round(accuracy_score(target_test, predictions_test_balanced), 4))\n",
    "print()\n",
    "print(\"Recall:\" ,round(recall_score(target_test, predictions_test_balanced), 3))\n",
    "print()\n",
    "print(\"Precision:\" ,round(precision_score(target_test, predictions_test_balanced), 3))\n",
    "print()\n",
    "print(\"F1:\", round(f1_score(target_test, predictions_test_balanced), 3))\n",
    "print()\n",
    "\n",
    "probabilities_test = model_decision_tree_balanced.predict_proba(features_test)\n",
    "probabilities_one_test = probabilities_test[:, 1]\n",
    "\n",
    "print(\"Tenemos un area bajo la curva de: \", round(roc_auc_score(target_test, probabilities_one_test), 3))"
   ]
  },
  {
   "cell_type": "markdown",
   "metadata": {},
   "source": [
    "<div class=\"alert alert-block alert-success\">\n",
    "<b>Celdas [16–20]</b> <a class=\"tocSkip\"></a><br>\n",
    "Muy bien aplicado el ajuste de pesos de clase. El modelo mejora significativamente su F1 y se presenta tanto la métrica como la curva ROC-AUC de forma clara. También se incluye evaluación sobre el set de prueba, lo cual es clave para validar generalización. Bien hecho.\n",
    "</div>\n"
   ]
  },
  {
   "cell_type": "markdown",
   "metadata": {},
   "source": [
    "##### Conclusion"
   ]
  },
  {
   "cell_type": "markdown",
   "metadata": {},
   "source": [
    "Vemos que con los datos de validacion el valor de F1 cumple con el rquisito del ejercicio. Sin embargo, el valor de F1 es insuficiente con los datos de prueba por 18 milesimas."
   ]
  },
  {
   "cell_type": "markdown",
   "metadata": {},
   "source": [
    "Sin embargo, podemos intentar otros metodos para el equilibro de clases como el sobremuestreo o el submuestreo. Para ver si obtenemos mejores resultados."
   ]
  },
  {
   "cell_type": "markdown",
   "metadata": {},
   "source": [
    "##### Sobremuestreo"
   ]
  },
  {
   "cell_type": "code",
   "execution_count": 21,
   "metadata": {},
   "outputs": [
    {
     "name": "stdout",
     "output_type": "stream",
     "text": [
      "Datos de entrenamiento antes del sobremuestreo:  6000\n",
      "\n",
      "Datos de entrenamiento despues del sobremuestreo:  16863\n"
     ]
    }
   ],
   "source": [
    "#Separamos las clases y el objetivo en 0 y 1. Las multiplicamos por un factor en este caso de 10 y las reburujamos con shuffle\n",
    "def upsample(features, target, repeat):\n",
    "    features_zeros = features[target == 0]\n",
    "    features_ones = features[target == 1]\n",
    "    target_zeros = target[target == 0]\n",
    "    target_ones = target[target == 1]\n",
    "\n",
    "    features_upsampled = pd.concat([features_zeros] + [features_ones] * repeat)\n",
    "    target_upsampled = pd.concat([target_zeros] + [target_ones] * repeat)\n",
    "\n",
    "    features_upsampled, target_upsampled = shuffle(features_upsampled, target_upsampled, random_state=20)\n",
    "\n",
    "    return features_upsampled, target_upsampled\n",
    "\n",
    "#Mandamos a llamar a la funcion\n",
    "features_upsampled, target_upsampled = upsample(features_train, target_train, 10)\n",
    "\n",
    "#Hacemos una comparativa entre la cantidad de valores de entrenamiento antes y despues del Sobremuestreo\n",
    "print(\"Datos de entrenamiento antes del sobremuestreo: \", len(features_train))\n",
    "print()\n",
    "print(\"Datos de entrenamiento despues del sobremuestreo: \", len(features_upsampled))"
   ]
  },
  {
   "cell_type": "code",
   "execution_count": 22,
   "metadata": {},
   "outputs": [
    {
     "name": "stdout",
     "output_type": "stream",
     "text": [
      "Con una profundidad maxima de 1 obtenemos una exactitud de: 0.2075 y un F1 de: 0.344\n",
      "Con una profundidad maxima de 2 obtenemos una exactitud de: 0.688 y un F1 de: 0.51\n",
      "Con una profundidad maxima de 3 obtenemos una exactitud de: 0.506 y un F1 de: 0.448\n",
      "Con una profundidad maxima de 4 obtenemos una exactitud de: 0.4995 y un F1 de: 0.445\n",
      "Con una profundidad maxima de 5 obtenemos una exactitud de: 0.6015 y un F1 de: 0.479\n",
      "Con una profundidad maxima de 6 obtenemos una exactitud de: 0.626 y un F1 de: 0.497\n",
      "Con una profundidad maxima de 7 obtenemos una exactitud de: 0.6675 y un F1 de: 0.514\n",
      "Con una profundidad maxima de 8 obtenemos una exactitud de: 0.641 y un F1 de: 0.495\n",
      "Con una profundidad maxima de 9 obtenemos una exactitud de: 0.678 y un F1 de: 0.514\n",
      "Con una profundidad maxima de 10 obtenemos una exactitud de: 0.706 y un F1 de: 0.527\n"
     ]
    }
   ],
   "source": [
    "#Ajuste del modelo\n",
    "for depth in range(1, 11):\n",
    "    model = DecisionTreeClassifier(random_state=1000, max_depth=depth)\n",
    "    model.fit(features_upsampled, target_upsampled)\n",
    "    predictions_valid = model.predict(features_valid)\n",
    "    accuracy = round(accuracy_score(target_valid, predictions_valid), 4)\n",
    "    f1 = round(f1_score(target_valid, predictions_valid), 3)\n",
    "    print(\"Con una profundidad maxima de {} obtenemos una exactitud de: {} y un F1 de: {}\".format(depth, accuracy, f1))"
   ]
  },
  {
   "cell_type": "code",
   "execution_count": 23,
   "metadata": {},
   "outputs": [
    {
     "name": "stdout",
     "output_type": "stream",
     "text": [
      "Resultados despues de equilibrar las clases:\n",
      "\n",
      "Exactitud: 0.706\n",
      "\n",
      "Recall: 0.788\n",
      "\n",
      "Precision: 0.395\n",
      "\n",
      "F1: 0.527\n"
     ]
    }
   ],
   "source": [
    "#creacion de modelo\n",
    "model_decision_tree_balanced = DecisionTreeClassifier(random_state=1000, max_depth=10)\n",
    "\n",
    "#entrenamiento\n",
    "model_decision_tree_balanced.fit(features_upsampled, target_upsampled)\n",
    "\n",
    "#validacion\n",
    "predictions_valid_balanced = model_decision_tree_balanced.predict(features_valid)\n",
    "\n",
    "print(\"Resultados despues de equilibrar las clases:\")\n",
    "print()\n",
    "print(\"Exactitud:\", round(accuracy_score(target_valid, predictions_valid_balanced), 4))\n",
    "print()\n",
    "print(\"Recall:\" ,round(recall_score(target_valid, predictions_valid_balanced), 3))\n",
    "print()\n",
    "print(\"Precision:\" ,round(precision_score(target_valid, predictions_valid_balanced), 3))\n",
    "print()\n",
    "print(\"F1:\", round(f1_score(target_valid, predictions_valid_balanced), 3))"
   ]
  },
  {
   "cell_type": "code",
   "execution_count": 24,
   "metadata": {},
   "outputs": [
    {
     "name": "stdout",
     "output_type": "stream",
     "text": [
      "0.7987609744973585\n"
     ]
    }
   ],
   "source": [
    "#Con la funcion .predict_proba sacamos una matriz que contiene la prediccion de la probabilidad de clase, en donde: \n",
    "#indice 0 = probabilidad de clase negativa o 0\n",
    "#indice 1 = probabilidad de clase positiva o 1\n",
    "probabilities_valid = model_decision_tree_balanced.predict_proba(features_valid)\n",
    "probabilities_one_valid = probabilities_valid[:, 1]\n",
    "\n",
    "#Sacamos el area bajo la curba o AUC_ROC\n",
    "auc_roc = roc_auc_score(target_valid, probabilities_one_valid)\n",
    "\n",
    "print(auc_roc)"
   ]
  },
  {
   "cell_type": "code",
   "execution_count": 25,
   "metadata": {},
   "outputs": [
    {
     "data": {
      "image/png": "[encoded data removed]",
      "text/plain": [
       "<Figure size 640x480 with 1 Axes>"
      ]
     },
     "metadata": {},
     "output_type": "display_data"
    }
   ],
   "source": [
    "#Graficamos la curva\n",
    "fpr, tpr, thresholds = roc_curve(target_valid, probabilities_one_valid)\n",
    "\n",
    "plt.figure()\n",
    "plt.plot(fpr, tpr)\n",
    "plt.plot([0, 1], [0, 1], linestyle='--')\n",
    "plt.xlim([0.0, 1.0])\n",
    "plt.ylim([0.0, 1.0])\n",
    "plt.xlabel('Tasa de falsos positivos')\n",
    "plt.ylabel('Tasa de verdaderos positivos')\n",
    "plt.title('Curva ROC')\n",
    "plt.show()"
   ]
  },
  {
   "cell_type": "code",
   "execution_count": 26,
   "metadata": {},
   "outputs": [
    {
     "name": "stdout",
     "output_type": "stream",
     "text": [
      "Resultados:\n",
      "\n",
      "Exactitud: 0.706\n",
      "\n",
      "Recall: 0.733\n",
      "\n",
      "Precision: 0.389\n",
      "\n",
      "F1: 0.508\n",
      "\n",
      "Tenemos un area bajo la curva de:  0.761\n"
     ]
    }
   ],
   "source": [
    "#Prueba\n",
    "predictions_test_balanced = model_decision_tree_balanced.predict(features_test)\n",
    "\n",
    "print(\"Resultados:\")\n",
    "print()\n",
    "print(\"Exactitud:\", round(accuracy_score(target_test, predictions_test_balanced), 4))\n",
    "print()\n",
    "print(\"Recall:\" ,round(recall_score(target_test, predictions_test_balanced), 3))\n",
    "print()\n",
    "print(\"Precision:\" ,round(precision_score(target_test, predictions_test_balanced), 3))\n",
    "print()\n",
    "print(\"F1:\", round(f1_score(target_test, predictions_test_balanced), 3))\n",
    "print()\n",
    "\n",
    "probabilities_test = model_decision_tree_balanced.predict_proba(features_test)\n",
    "probabilities_one_test = probabilities_test[:, 1]\n",
    "\n",
    "print(\"Tenemos un area bajo la curva de: \", round(roc_auc_score(target_test, probabilities_one_test), 3))"
   ]
  },
  {
   "cell_type": "markdown",
   "metadata": {},
   "source": [
    "<div class=\"alert alert-block alert-success\">\n",
    "<b>Celdas [21–26]</b> <a class=\"tocSkip\"></a><br>\n",
    "Buen sobremuestreo, y bien implementado el procedimiento. En el modelo final, podrías agregar una tabla o resumen comparativo con las métricas clave (F1 y ROC-AUC) de todos los enfoques. Esto facilitaría ver claramente cuál fue el más efectivo.\n",
    "</div>\n"
   ]
  },
  {
   "cell_type": "markdown",
   "metadata": {},
   "source": [
    "##### Conclusion"
   ]
  },
  {
   "cell_type": "markdown",
   "metadata": {},
   "source": [
    "Desafortunadamente obtuvimos un peor desempeño con el Sobremuestreo."
   ]
  },
  {
   "cell_type": "markdown",
   "metadata": {},
   "source": [
    "##### Submuestreo"
   ]
  },
  {
   "cell_type": "code",
   "execution_count": 27,
   "metadata": {},
   "outputs": [
    {
     "name": "stdout",
     "output_type": "stream",
     "text": [
      "Datos de entrenamiento antes del sobremuestreo:  6000\n",
      "\n",
      "Datos de entrenamiento despues del sobremuestreo:  1686\n"
     ]
    }
   ],
   "source": [
    "def downsample(features, target, fraction):\n",
    "    features_zeros = features[target == 0]\n",
    "    features_ones = features[target == 1]\n",
    "    target_zeros = target[target == 0]\n",
    "    target_ones = target[target == 1]\n",
    "\n",
    "    features_downsampled = pd.concat([features_zeros.sample(frac=fraction, random_state=12345)] + [features_ones])\n",
    "    target_downsampled = pd.concat([target_zeros.sample(frac=fraction, random_state=12345)] + [target_ones])\n",
    "\n",
    "    features_downsampled, target_downsampled = shuffle(features_downsampled, target_downsampled, random_state=12345)\n",
    "\n",
    "    return features_downsampled, target_downsampled\n",
    "\n",
    "features_downsampled, target_downsampled = downsample(features_train, target_train, 0.1)\n",
    "\n",
    "#Hacemos una comparativa entre la cantidad de valores de entrenamiento antes y despues del Sobremuestreo\n",
    "print(\"Datos de entrenamiento antes del sobremuestreo: \", len(features_train))\n",
    "print()\n",
    "print(\"Datos de entrenamiento despues del sobremuestreo: \", len(features_downsampled))"
   ]
  },
  {
   "cell_type": "code",
   "execution_count": 28,
   "metadata": {},
   "outputs": [
    {
     "name": "stdout",
     "output_type": "stream",
     "text": [
      "Con una profundidad maxima de 1 obtenemos una exactitud de: 0.2075 y un F1 de: 0.344\n",
      "Con una profundidad maxima de 2 obtenemos una exactitud de: 0.688 y un F1 de: 0.51\n",
      "Con una profundidad maxima de 3 obtenemos una exactitud de: 0.486 y un F1 de: 0.439\n",
      "Con una profundidad maxima de 4 obtenemos una exactitud de: 0.5635 y un F1 de: 0.465\n",
      "Con una profundidad maxima de 5 obtenemos una exactitud de: 0.68 y un F1 de: 0.532\n",
      "Con una profundidad maxima de 6 obtenemos una exactitud de: 0.68 y un F1 de: 0.527\n",
      "Con una profundidad maxima de 7 obtenemos una exactitud de: 0.613 y un F1 de: 0.485\n",
      "Con una profundidad maxima de 8 obtenemos una exactitud de: 0.6315 y un F1 de: 0.496\n",
      "Con una profundidad maxima de 9 obtenemos una exactitud de: 0.621 y un F1 de: 0.489\n",
      "Con una profundidad maxima de 10 obtenemos una exactitud de: 0.6125 y un F1 de: 0.48\n"
     ]
    }
   ],
   "source": [
    "#Ajuste del modelo\n",
    "for depth in range(1, 11):\n",
    "    model = DecisionTreeClassifier(random_state=1000, max_depth=depth)\n",
    "    model.fit(features_downsampled, target_downsampled)\n",
    "    predictions_valid = model.predict(features_valid)\n",
    "    accuracy = round(accuracy_score(target_valid, predictions_valid), 4)\n",
    "    f1 = round(f1_score(target_valid, predictions_valid), 3)\n",
    "    print(\"Con una profundidad maxima de {} obtenemos una exactitud de: {} y un F1 de: {}\".format(depth, accuracy, f1))"
   ]
  },
  {
   "cell_type": "code",
   "execution_count": 29,
   "metadata": {},
   "outputs": [
    {
     "name": "stdout",
     "output_type": "stream",
     "text": [
      "Resultados despues de equilibrar las clases:\n",
      "\n",
      "Exactitud: 0.68\n",
      "\n",
      "Recall: 0.858\n",
      "\n",
      "Precision: 0.38\n",
      "\n",
      "F1: 0.527\n"
     ]
    }
   ],
   "source": [
    "#creacion de modelo\n",
    "model_decision_tree_downsamp = DecisionTreeClassifier(random_state=1000, max_depth=6)\n",
    "\n",
    "#entrenamiento\n",
    "model_decision_tree_downsamp.fit(features_downsampled, target_downsampled)\n",
    "\n",
    "#validacion\n",
    "predictions_valid_downsamp = model_decision_tree_downsamp.predict(features_valid)\n",
    "\n",
    "print(\"Resultados despues de equilibrar las clases:\")\n",
    "print()\n",
    "print(\"Exactitud:\", round(accuracy_score(target_valid, predictions_valid_downsamp), 4))\n",
    "print()\n",
    "print(\"Recall:\" ,round(recall_score(target_valid, predictions_valid_downsamp), 3))\n",
    "print()\n",
    "print(\"Precision:\" ,round(precision_score(target_valid, predictions_valid_downsamp), 3))\n",
    "print()\n",
    "print(\"F1:\", round(f1_score(target_valid, predictions_valid_downsamp), 3))"
   ]
  },
  {
   "cell_type": "code",
   "execution_count": 30,
   "metadata": {},
   "outputs": [
    {
     "name": "stdout",
     "output_type": "stream",
     "text": [
      "0.8177811561704229\n"
     ]
    }
   ],
   "source": [
    "#Con la funcion .predict_proba sacamos una matriz que contiene la prediccion de la probabilidad de clase, en donde: \n",
    "#indice 0 = probabilidad de clase negativa o 0\n",
    "#indice 1 = probabilidad de clase positiva o 1\n",
    "probabilities_valid = model_decision_tree_downsamp.predict_proba(features_valid)\n",
    "probabilities_one_valid = probabilities_valid[:, 1]\n",
    "\n",
    "#Sacamos el area bajo la curba o AUC_ROC\n",
    "auc_roc = roc_auc_score(target_valid, probabilities_one_valid)\n",
    "\n",
    "print(auc_roc)"
   ]
  },
  {
   "cell_type": "code",
   "execution_count": 31,
   "metadata": {},
   "outputs": [
    {
     "data": {
      "image/png": "[encoded data removed]",
      "text/plain": [
       "<Figure size 640x480 with 1 Axes>"
      ]
     },
     "metadata": {},
     "output_type": "display_data"
    }
   ],
   "source": [
    "#Graficamos la curva\n",
    "fpr, tpr, thresholds = roc_curve(target_valid, probabilities_one_valid)\n",
    "\n",
    "plt.figure()\n",
    "plt.plot(fpr, tpr)\n",
    "plt.plot([0, 1], [0, 1], linestyle='--')\n",
    "plt.xlim([0.0, 1.0])\n",
    "plt.ylim([0.0, 1.0])\n",
    "plt.xlabel('Tasa de falsos positivos')\n",
    "plt.ylabel('Tasa de verdaderos positivos')\n",
    "plt.title('Curva ROC')\n",
    "plt.show()"
   ]
  },
  {
   "cell_type": "code",
   "execution_count": 32,
   "metadata": {},
   "outputs": [
    {
     "name": "stdout",
     "output_type": "stream",
     "text": [
      "Resultados:\n",
      "\n",
      "Exactitud: 0.6675\n",
      "\n",
      "Recall: 0.836\n",
      "\n",
      "Precision: 0.368\n",
      "\n",
      "F1: 0.511\n",
      "\n",
      "Tenemos un area bajo la curva de:  0.791\n"
     ]
    }
   ],
   "source": [
    "#Prueba\n",
    "predictions_test_downsamp = model_decision_tree_downsamp.predict(features_test)\n",
    "\n",
    "print(\"Resultados:\")\n",
    "print()\n",
    "print(\"Exactitud:\", round(accuracy_score(target_test, predictions_test_downsamp), 4))\n",
    "print()\n",
    "print(\"Recall:\" ,round(recall_score(target_test, predictions_test_downsamp), 3))\n",
    "print()\n",
    "print(\"Precision:\" ,round(precision_score(target_test, predictions_test_downsamp), 3))\n",
    "print()\n",
    "print(\"F1:\", round(f1_score(target_test, predictions_test_downsamp), 3))\n",
    "print()\n",
    "\n",
    "probabilities_test = model_decision_tree_downsamp.predict_proba(features_test)\n",
    "probabilities_one_test = probabilities_test[:, 1]\n",
    "\n",
    "print(\"Tenemos un area bajo la curva de: \", round(roc_auc_score(target_test, probabilities_one_test), 3))"
   ]
  },
  {
   "cell_type": "markdown",
   "metadata": {},
   "source": [
    "El equilibrio de clases con el metodo de Submuestreo fue poco mejor que con el metodo de Sobremuestreo."
   ]
  },
  {
   "cell_type": "markdown",
   "metadata": {},
   "source": [
    "Como ultima prueba podriamos comprobar si juntando dos metodos para equilibrar las clases obtenemos un resultado mejor. En este caso uniriamos el Submuestreo con el Ajuste de Pesos de clase, que fueron los que mostraron mejor desempeño."
   ]
  },
  {
   "cell_type": "markdown",
   "metadata": {},
   "source": [
    "##### Ajuste del Paso de Clases y Submuestreo"
   ]
  },
  {
   "cell_type": "code",
   "execution_count": 33,
   "metadata": {},
   "outputs": [
    {
     "name": "stdout",
     "output_type": "stream",
     "text": [
      "Con una profundidad maxima de 1 obtenemos una exactitud de: 0.7335 y un F1 de: 0.511\n",
      "Con una profundidad maxima de 2 obtenemos una exactitud de: 0.74 y un F1 de: 0.533\n",
      "Con una profundidad maxima de 3 obtenemos una exactitud de: 0.7925 y un F1 de: 0.557\n",
      "Con una profundidad maxima de 4 obtenemos una exactitud de: 0.775 y un F1 de: 0.583\n",
      "Con una profundidad maxima de 5 obtenemos una exactitud de: 0.7525 y un F1 de: 0.57\n",
      "Con una profundidad maxima de 6 obtenemos una exactitud de: 0.7835 y un F1 de: 0.593\n",
      "Con una profundidad maxima de 7 obtenemos una exactitud de: 0.745 y un F1 de: 0.565\n",
      "Con una profundidad maxima de 8 obtenemos una exactitud de: 0.7255 y un F1 de: 0.54\n",
      "Con una profundidad maxima de 9 obtenemos una exactitud de: 0.694 y un F1 de: 0.515\n",
      "Con una profundidad maxima de 10 obtenemos una exactitud de: 0.676 y un F1 de: 0.509\n"
     ]
    }
   ],
   "source": [
    "#Ajuste del modelo\n",
    "for depth in range(1, 11):\n",
    "    model = DecisionTreeClassifier(random_state=1000, max_depth=depth, class_weight=\"balanced\")\n",
    "    model.fit(features_downsampled, target_downsampled)\n",
    "    predictions_valid = model.predict(features_valid)\n",
    "    accuracy = round(accuracy_score(target_valid, predictions_valid), 4)\n",
    "    f1 = round(f1_score(target_valid, predictions_valid), 3)\n",
    "    print(\"Con una profundidad maxima de {} obtenemos una exactitud de: {} y un F1 de: {}\".format(depth, accuracy, f1))"
   ]
  },
  {
   "cell_type": "code",
   "execution_count": 34,
   "metadata": {},
   "outputs": [
    {
     "name": "stdout",
     "output_type": "stream",
     "text": [
      "Resultados despues de equilibrar las clases:\n",
      "\n",
      "Exactitud: 0.7835\n",
      "\n",
      "Recall: 0.761\n",
      "\n",
      "Precision: 0.486\n",
      "\n",
      "F1: 0.593\n"
     ]
    }
   ],
   "source": [
    "#creacion de modelo\n",
    "model_decision_tree_downsamp = DecisionTreeClassifier(random_state=1000, max_depth=6, class_weight=\"balanced\")\n",
    "\n",
    "#entrenamiento\n",
    "model_decision_tree_downsamp.fit(features_downsampled, target_downsampled)\n",
    "\n",
    "#validacion\n",
    "predictions_valid_downsamp = model_decision_tree_downsamp.predict(features_valid)\n",
    "\n",
    "print(\"Resultados despues de equilibrar las clases:\")\n",
    "print()\n",
    "print(\"Exactitud:\", round(accuracy_score(target_valid, predictions_valid_downsamp), 4))\n",
    "print()\n",
    "print(\"Recall:\" ,round(recall_score(target_valid, predictions_valid_downsamp), 3))\n",
    "print()\n",
    "print(\"Precision:\" ,round(precision_score(target_valid, predictions_valid_downsamp), 3))\n",
    "print()\n",
    "print(\"F1:\", round(f1_score(target_valid, predictions_valid_downsamp), 3))"
   ]
  },
  {
   "cell_type": "code",
   "execution_count": 35,
   "metadata": {},
   "outputs": [
    {
     "name": "stdout",
     "output_type": "stream",
     "text": [
      "0.8334688913382234\n"
     ]
    }
   ],
   "source": [
    "#Con la funcion .predict_proba sacamos una matriz que contiene la prediccion de la probabilidad de clase, en donde: \n",
    "#indice 0 = probabilidad de clase negativa o 0\n",
    "#indice 1 = probabilidad de clase positiva o 1\n",
    "probabilities_valid = model_decision_tree_downsamp.predict_proba(features_valid)\n",
    "probabilities_one_valid = probabilities_valid[:, 1]\n",
    "\n",
    "#Sacamos el area bajo la curba o AUC_ROC\n",
    "auc_roc = roc_auc_score(target_valid, probabilities_one_valid)\n",
    "\n",
    "print(auc_roc)"
   ]
  },
  {
   "cell_type": "code",
   "execution_count": 36,
   "metadata": {},
   "outputs": [
    {
     "data": {
      "image/png": "[encoded data removed]",
      "text/plain": [
       "<Figure size 640x480 with 1 Axes>"
      ]
     },
     "metadata": {},
     "output_type": "display_data"
    }
   ],
   "source": [
    "#Graficamos la curva\n",
    "fpr, tpr, thresholds = roc_curve(target_valid, probabilities_one_valid)\n",
    "\n",
    "plt.figure()\n",
    "plt.plot(fpr, tpr)\n",
    "plt.plot([0, 1], [0, 1], linestyle='--')\n",
    "plt.xlim([0.0, 1.0])\n",
    "plt.ylim([0.0, 1.0])\n",
    "plt.xlabel('Tasa de falsos positivos')\n",
    "plt.ylabel('Tasa de verdaderos positivos')\n",
    "plt.title('Curva ROC')\n",
    "plt.show()"
   ]
  },
  {
   "cell_type": "code",
   "execution_count": 37,
   "metadata": {},
   "outputs": [
    {
     "name": "stdout",
     "output_type": "stream",
     "text": [
      "Resultados:\n",
      "\n",
      "Exactitud: 0.754\n",
      "\n",
      "Recall: 0.723\n",
      "\n",
      "Precision: 0.443\n",
      "\n",
      "F1: 0.549\n",
      "\n",
      "Tenemos un area bajo la curva de:  0.799\n"
     ]
    }
   ],
   "source": [
    "#Prueba\n",
    "predictions_test_downsamp = model_decision_tree_downsamp.predict(features_test)\n",
    "\n",
    "print(\"Resultados:\")\n",
    "print()\n",
    "print(\"Exactitud:\", round(accuracy_score(target_test, predictions_test_downsamp), 4))\n",
    "print()\n",
    "print(\"Recall:\" ,round(recall_score(target_test, predictions_test_downsamp), 3))\n",
    "print()\n",
    "print(\"Precision:\" ,round(precision_score(target_test, predictions_test_downsamp), 3))\n",
    "print()\n",
    "print(\"F1:\", round(f1_score(target_test, predictions_test_downsamp), 3))\n",
    "print()\n",
    "\n",
    "probabilities_test = model_decision_tree_downsamp.predict_proba(features_test)\n",
    "probabilities_one_test = probabilities_test[:, 1]\n",
    "\n",
    "print(\"Tenemos un area bajo la curva de: \", round(roc_auc_score(target_test, probabilities_one_test), 3))"
   ]
  },
  {
   "cell_type": "markdown",
   "metadata": {},
   "source": [
    "##### Conclusion"
   ]
  },
  {
   "cell_type": "markdown",
   "metadata": {},
   "source": [
    "Mejoro, pero aun quedo por detras del resultado de simplemente usar el metodo de Ajuste de Peso de Clase"
   ]
  },
  {
   "cell_type": "markdown",
   "metadata": {},
   "source": [
    "## Conclusion General"
   ]
  },
  {
   "cell_type": "markdown",
   "metadata": {},
   "source": [
    "Al final el mejor metodo de equilibrio de clases fue el Ajuste de Peso de Clase.\n",
    "\n",
    "Si bien el valor de F1 con el conjunto de prueba no supero el minimo esperado en el ejercicio diria que se debe mas a las variaciones esperables de las pruebas que al modelo en si, ya que si vamos cambienado el parametro \"random_state\" podemos aumentar o disminuir el valor de F1, pero de eso no se trata el ejercicio. \n",
    "\n",
    "Aun asi, si se concidera que este resultado es insatisfactorio pues bueno, lo cambiare. 🤕"
   ]
  },
  {
   "cell_type": "markdown",
   "metadata": {},
   "source": [
    "<div class=\"alert alert-block alert-success\">\n",
    "<b>Comentario final</b> <a class=\"tocSkip\"></a><br>\n",
    "¡Buen trabajo, Sebastián! Tu proyecto tiene una estructura clara, justificaciones bien argumentadas y una ejecución técnica sólida. Destacan tu análisis del desbalance de clases, la aplicación ordenada de varios métodos para resolverlo, y la evaluación honesta del modelo.  \n",
    "Para portafolio, podrías agregar una tabla final comparando todos los métodos y F1 sobre test para reforzar tu argumento.  \n",
    "En general, vas por un excelente camino en machine learning. ¡Sigue así!\n",
    "</div>\n"
   ]
  }
 ],
 "metadata": {
  "ExecuteTimeLog": [
   {
    "duration": 759,
    "start_time": "2025-05-09T18:05:26.791Z"
   },
   {
    "duration": 29,
    "start_time": "2025-05-09T18:05:28.615Z"
   },
   {
    "duration": 750,
    "start_time": "2025-05-11T17:31:45.771Z"
   },
   {
    "duration": 40,
    "start_time": "2025-05-11T17:31:46.524Z"
   },
   {
    "duration": 62,
    "start_time": "2025-05-11T17:47:53.891Z"
   }
  ],
  "kernelspec": {
   "display_name": "Python 3 (ipykernel)",
   "language": "python",
   "name": "python3"
  },
  "language_info": {
   "codemirror_mode": {
    "name": "ipython",
    "version": 3
   },
   "file_extension": ".py",
   "mimetype": "text/x-python",
   "name": "python",
   "nbconvert_exporter": "python",
   "pygments_lexer": "ipython3",
   "version": "3.9.22"
  },
  "toc": {
   "base_numbering": 1,
   "nav_menu": {},
   "number_sections": true,
   "sideBar": true,
   "skip_h1_title": true,
   "title_cell": "Table of Contents",
   "title_sidebar": "Contents",
   "toc_cell": false,
   "toc_position": {},
   "toc_section_display": true,
   "toc_window_display": false
  }
 },
 "nbformat": 4,
 "nbformat_minor": 4
}
